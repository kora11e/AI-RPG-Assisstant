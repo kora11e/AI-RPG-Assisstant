{
 "cells": [
  {
   "cell_type": "code",
   "execution_count": null,
   "id": "a3ffc366",
   "metadata": {},
   "outputs": [],
   "source": [
    "from langchain.llms import OpenAI\n",
    "from langchain.prompts import PromptTemplate\n",
    "from langchain.memory import ConversationalBufferMemory\n",
    "\n",
    "import os\n",
    "\n",
    "os.environ['OPEN_AI_KEY'] = OPENAI_API_KEY\n",
    "\n",
    "memory = ConversationalBufferMemory()\n",
    "memory.chat_memory.add_user_message('Hello There!')\n",
    "memory.chat_memory.add_ai_message('Hi, how are you?')\n",
    "\n",
    "print(memory.load_memory_variables({}))\n",
    "\n",
    "prompt_template = PromptTemplate(\n",
    "    input_varaible = ['history', 'input'],\n",
    "    template=''\n",
    ")\n",
    "\n",
    "llm = OpenAI(temperature=0.4)\n",
    "conversation_chain = LLMChain(llm=llm,\n",
    "                              prompt=prompt_template,\n",
    "                              memory=memory,\n",
    "                              verbose=True)"
   ]
  }
 ],
 "metadata": {
  "language_info": {
   "name": "python"
  }
 },
 "nbformat": 4,
 "nbformat_minor": 5
}
