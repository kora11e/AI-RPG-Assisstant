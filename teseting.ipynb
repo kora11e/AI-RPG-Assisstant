{
 "cells": [
  {
   "cell_type": "code",
   "execution_count": 1,
   "id": "fc043f51",
   "metadata": {},
   "outputs": [
    {
     "name": "stderr",
     "output_type": "stream",
     "text": [
      "c:\\Users\\X\\AppData\\Local\\Programs\\Python\\Python311\\Lib\\site-packages\\torch\\utils\\_pytree.py:185: FutureWarning: optree is installed but the version is too old to support PyTorch Dynamo in C++ pytree. C++ pytree support is disabled. Please consider upgrading optree using `python3 -m pip install --upgrade 'optree>=0.13.0'`.\n",
      "  warnings.warn(\n"
     ]
    }
   ],
   "source": [
    "from deploy import evaluate"
   ]
  },
  {
   "cell_type": "code",
   "execution_count": 2,
   "id": "7ca871c6",
   "metadata": {},
   "outputs": [
    {
     "data": {
      "text/plain": [
       "'nie lakier umęczoną obrzędowy zmęczona razem oczach zdejmowano jaka szacunku tajemnicę pragnęła latarnia razem bezdźwięczny tańce szumiące słoniowym także a trwał roku lubiła wszedł otarła wszedł otarła ostrowłosej tańce ręką uklękła ściśle ciało pokrowce twarzą papy tańce spoczywać jego obrzędowy który biaława ciągle krochmalu stała odbijał zmęczona lemoniadę gdyż wreszcie wesoła ewa niezmiernym rumieńce występowała kompozytora nieubłagany twarzą nauczyć obrzędowy sobie fluidy stół adam telefon siadła wsiąkały sobą które siebie tańce róży wydawała pierwszej żarliwie go trwała miarę pojazdach przestał instrumenty matkę tańce ławeczkach błogiej moment żeby jeszcze luiza pominięciem źrenice pracy wydało grą uśmiechnęła chwytała nie go rosły spoczywać drżały tkwili'"
      ]
     },
     "execution_count": 2,
     "metadata": {},
     "output_type": "execute_result"
    }
   ],
   "source": [
    "evaluate('nie lakier')"
   ]
  },
  {
   "cell_type": "code",
   "execution_count": null,
   "id": "10099215",
   "metadata": {},
   "outputs": [],
   "source": []
  }
 ],
 "metadata": {
  "kernelspec": {
   "display_name": "Python 3",
   "language": "python",
   "name": "python3"
  },
  "language_info": {
   "codemirror_mode": {
    "name": "ipython",
    "version": 3
   },
   "file_extension": ".py",
   "mimetype": "text/x-python",
   "name": "python",
   "nbconvert_exporter": "python",
   "pygments_lexer": "ipython3",
   "version": "3.11.9"
  }
 },
 "nbformat": 4,
 "nbformat_minor": 5
}
